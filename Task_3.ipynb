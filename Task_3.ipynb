{
  "nbformat": 4,
  "nbformat_minor": 0,
  "metadata": {
    "colab": {
      "name": "Task_3.ipynb",
      "provenance": [],
      "collapsed_sections": [],
      "toc_visible": true,
      "authorship_tag": "ABX9TyM/s3K3/to4spegdjzzs0Dk",
      "include_colab_link": true
    },
    "kernelspec": {
      "name": "python3",
      "display_name": "Python 3"
    },
    "language_info": {
      "name": "python"
    }
  },
  "cells": [
    {
      "cell_type": "markdown",
      "metadata": {
        "id": "view-in-github",
        "colab_type": "text"
      },
      "source": [
        "<a href=\"https://colab.research.google.com/github/lokeshparab/Exploratory-Data-Analysis/blob/main/Task_3.ipynb\" target=\"_parent\"><img src=\"https://colab.research.google.com/assets/colab-badge.svg\" alt=\"Open In Colab\"/></a>"
      ]
    },
    {
      "cell_type": "markdown",
      "metadata": {
        "id": "9njIoZNZxwTp"
      },
      "source": [
        "#**Lokesh Parab Task 3**\n",
        "#**Exploratory Data Analysis**\n",
        "#**Q) Find out the weaks ares where you can work to make more profit**"
      ]
    },
    {
      "cell_type": "code",
      "metadata": {
        "id": "hDy_bkqMxp9r"
      },
      "source": [
        "# Importing the libraries\n",
        "import pandas as pd\n",
        "import warnings\n",
        "warnings.filterwarnings('ignore')"
      ],
      "execution_count": 1,
      "outputs": []
    },
    {
      "cell_type": "code",
      "metadata": {
        "colab": {
          "base_uri": "https://localhost:8080/",
          "height": 558
        },
        "id": "KqicAvYoxuuo",
        "outputId": "ea9e5579-9de8-4ad4-aa3b-868e7841d469"
      },
      "source": [
        "df = pd.read_csv(\"/content/SampleSuperstore.csv\")\n",
        "print(\"Data imported successfully\")\n",
        "\n",
        "df.head(10)"
      ],
      "execution_count": 2,
      "outputs": [
        {
          "output_type": "stream",
          "name": "stdout",
          "text": [
            "Data imported successfully\n"
          ]
        },
        {
          "output_type": "execute_result",
          "data": {
            "text/html": [
              "<div>\n",
              "<style scoped>\n",
              "    .dataframe tbody tr th:only-of-type {\n",
              "        vertical-align: middle;\n",
              "    }\n",
              "\n",
              "    .dataframe tbody tr th {\n",
              "        vertical-align: top;\n",
              "    }\n",
              "\n",
              "    .dataframe thead th {\n",
              "        text-align: right;\n",
              "    }\n",
              "</style>\n",
              "<table border=\"1\" class=\"dataframe\">\n",
              "  <thead>\n",
              "    <tr style=\"text-align: right;\">\n",
              "      <th></th>\n",
              "      <th>Ship Mode</th>\n",
              "      <th>Segment</th>\n",
              "      <th>Country</th>\n",
              "      <th>City</th>\n",
              "      <th>State</th>\n",
              "      <th>Postal Code</th>\n",
              "      <th>Region</th>\n",
              "      <th>Category</th>\n",
              "      <th>Sub-Category</th>\n",
              "      <th>Sales</th>\n",
              "      <th>Quantity</th>\n",
              "      <th>Discount</th>\n",
              "      <th>Profit</th>\n",
              "    </tr>\n",
              "  </thead>\n",
              "  <tbody>\n",
              "    <tr>\n",
              "      <th>0</th>\n",
              "      <td>Second Class</td>\n",
              "      <td>Consumer</td>\n",
              "      <td>United States</td>\n",
              "      <td>Henderson</td>\n",
              "      <td>Kentucky</td>\n",
              "      <td>42420</td>\n",
              "      <td>South</td>\n",
              "      <td>Furniture</td>\n",
              "      <td>Bookcases</td>\n",
              "      <td>261.9600</td>\n",
              "      <td>2</td>\n",
              "      <td>0.00</td>\n",
              "      <td>41.9136</td>\n",
              "    </tr>\n",
              "    <tr>\n",
              "      <th>1</th>\n",
              "      <td>Second Class</td>\n",
              "      <td>Consumer</td>\n",
              "      <td>United States</td>\n",
              "      <td>Henderson</td>\n",
              "      <td>Kentucky</td>\n",
              "      <td>42420</td>\n",
              "      <td>South</td>\n",
              "      <td>Furniture</td>\n",
              "      <td>Chairs</td>\n",
              "      <td>731.9400</td>\n",
              "      <td>3</td>\n",
              "      <td>0.00</td>\n",
              "      <td>219.5820</td>\n",
              "    </tr>\n",
              "    <tr>\n",
              "      <th>2</th>\n",
              "      <td>Second Class</td>\n",
              "      <td>Corporate</td>\n",
              "      <td>United States</td>\n",
              "      <td>Los Angeles</td>\n",
              "      <td>California</td>\n",
              "      <td>90036</td>\n",
              "      <td>West</td>\n",
              "      <td>Office Supplies</td>\n",
              "      <td>Labels</td>\n",
              "      <td>14.6200</td>\n",
              "      <td>2</td>\n",
              "      <td>0.00</td>\n",
              "      <td>6.8714</td>\n",
              "    </tr>\n",
              "    <tr>\n",
              "      <th>3</th>\n",
              "      <td>Standard Class</td>\n",
              "      <td>Consumer</td>\n",
              "      <td>United States</td>\n",
              "      <td>Fort Lauderdale</td>\n",
              "      <td>Florida</td>\n",
              "      <td>33311</td>\n",
              "      <td>South</td>\n",
              "      <td>Furniture</td>\n",
              "      <td>Tables</td>\n",
              "      <td>957.5775</td>\n",
              "      <td>5</td>\n",
              "      <td>0.45</td>\n",
              "      <td>-383.0310</td>\n",
              "    </tr>\n",
              "    <tr>\n",
              "      <th>4</th>\n",
              "      <td>Standard Class</td>\n",
              "      <td>Consumer</td>\n",
              "      <td>United States</td>\n",
              "      <td>Fort Lauderdale</td>\n",
              "      <td>Florida</td>\n",
              "      <td>33311</td>\n",
              "      <td>South</td>\n",
              "      <td>Office Supplies</td>\n",
              "      <td>Storage</td>\n",
              "      <td>22.3680</td>\n",
              "      <td>2</td>\n",
              "      <td>0.20</td>\n",
              "      <td>2.5164</td>\n",
              "    </tr>\n",
              "    <tr>\n",
              "      <th>5</th>\n",
              "      <td>Standard Class</td>\n",
              "      <td>Consumer</td>\n",
              "      <td>United States</td>\n",
              "      <td>Los Angeles</td>\n",
              "      <td>California</td>\n",
              "      <td>90032</td>\n",
              "      <td>West</td>\n",
              "      <td>Furniture</td>\n",
              "      <td>Furnishings</td>\n",
              "      <td>48.8600</td>\n",
              "      <td>7</td>\n",
              "      <td>0.00</td>\n",
              "      <td>14.1694</td>\n",
              "    </tr>\n",
              "    <tr>\n",
              "      <th>6</th>\n",
              "      <td>Standard Class</td>\n",
              "      <td>Consumer</td>\n",
              "      <td>United States</td>\n",
              "      <td>Los Angeles</td>\n",
              "      <td>California</td>\n",
              "      <td>90032</td>\n",
              "      <td>West</td>\n",
              "      <td>Office Supplies</td>\n",
              "      <td>Art</td>\n",
              "      <td>7.2800</td>\n",
              "      <td>4</td>\n",
              "      <td>0.00</td>\n",
              "      <td>1.9656</td>\n",
              "    </tr>\n",
              "    <tr>\n",
              "      <th>7</th>\n",
              "      <td>Standard Class</td>\n",
              "      <td>Consumer</td>\n",
              "      <td>United States</td>\n",
              "      <td>Los Angeles</td>\n",
              "      <td>California</td>\n",
              "      <td>90032</td>\n",
              "      <td>West</td>\n",
              "      <td>Technology</td>\n",
              "      <td>Phones</td>\n",
              "      <td>907.1520</td>\n",
              "      <td>6</td>\n",
              "      <td>0.20</td>\n",
              "      <td>90.7152</td>\n",
              "    </tr>\n",
              "    <tr>\n",
              "      <th>8</th>\n",
              "      <td>Standard Class</td>\n",
              "      <td>Consumer</td>\n",
              "      <td>United States</td>\n",
              "      <td>Los Angeles</td>\n",
              "      <td>California</td>\n",
              "      <td>90032</td>\n",
              "      <td>West</td>\n",
              "      <td>Office Supplies</td>\n",
              "      <td>Binders</td>\n",
              "      <td>18.5040</td>\n",
              "      <td>3</td>\n",
              "      <td>0.20</td>\n",
              "      <td>5.7825</td>\n",
              "    </tr>\n",
              "    <tr>\n",
              "      <th>9</th>\n",
              "      <td>Standard Class</td>\n",
              "      <td>Consumer</td>\n",
              "      <td>United States</td>\n",
              "      <td>Los Angeles</td>\n",
              "      <td>California</td>\n",
              "      <td>90032</td>\n",
              "      <td>West</td>\n",
              "      <td>Office Supplies</td>\n",
              "      <td>Appliances</td>\n",
              "      <td>114.9000</td>\n",
              "      <td>5</td>\n",
              "      <td>0.00</td>\n",
              "      <td>34.4700</td>\n",
              "    </tr>\n",
              "  </tbody>\n",
              "</table>\n",
              "</div>"
            ],
            "text/plain": [
              "        Ship Mode    Segment        Country  ... Quantity Discount    Profit\n",
              "0    Second Class   Consumer  United States  ...        2     0.00   41.9136\n",
              "1    Second Class   Consumer  United States  ...        3     0.00  219.5820\n",
              "2    Second Class  Corporate  United States  ...        2     0.00    6.8714\n",
              "3  Standard Class   Consumer  United States  ...        5     0.45 -383.0310\n",
              "4  Standard Class   Consumer  United States  ...        2     0.20    2.5164\n",
              "5  Standard Class   Consumer  United States  ...        7     0.00   14.1694\n",
              "6  Standard Class   Consumer  United States  ...        4     0.00    1.9656\n",
              "7  Standard Class   Consumer  United States  ...        6     0.20   90.7152\n",
              "8  Standard Class   Consumer  United States  ...        3     0.20    5.7825\n",
              "9  Standard Class   Consumer  United States  ...        5     0.00   34.4700\n",
              "\n",
              "[10 rows x 13 columns]"
            ]
          },
          "metadata": {},
          "execution_count": 2
        }
      ]
    },
    {
      "cell_type": "code",
      "metadata": {
        "colab": {
          "base_uri": "https://localhost:8080/"
        },
        "id": "5g_DPvcpy3FN",
        "outputId": "336b3c2b-ef20-4c0c-c96f-00498583a141"
      },
      "source": [
        "df.shape"
      ],
      "execution_count": 3,
      "outputs": [
        {
          "output_type": "execute_result",
          "data": {
            "text/plain": [
              "(9994, 13)"
            ]
          },
          "metadata": {},
          "execution_count": 3
        }
      ]
    },
    {
      "cell_type": "code",
      "metadata": {
        "colab": {
          "base_uri": "https://localhost:8080/"
        },
        "id": "9uUQAmzMDAaO",
        "outputId": "0423cfe8-cdad-4706-c565-39c901e2ebc0"
      },
      "source": [
        "df['Country'].unique()"
      ],
      "execution_count": 4,
      "outputs": [
        {
          "output_type": "execute_result",
          "data": {
            "text/plain": [
              "array(['United States'], dtype=object)"
            ]
          },
          "metadata": {},
          "execution_count": 4
        }
      ]
    },
    {
      "cell_type": "code",
      "metadata": {
        "id": "W0ArE-ACy8in"
      },
      "source": [
        "del df['Country']"
      ],
      "execution_count": 5,
      "outputs": []
    },
    {
      "cell_type": "code",
      "metadata": {
        "colab": {
          "base_uri": "https://localhost:8080/",
          "height": 417
        },
        "id": "RnH6uldqzd31",
        "outputId": "8237e0c6-b391-44a6-9e6f-1390f1a18297"
      },
      "source": [
        "df"
      ],
      "execution_count": 6,
      "outputs": [
        {
          "output_type": "execute_result",
          "data": {
            "text/html": [
              "<div>\n",
              "<style scoped>\n",
              "    .dataframe tbody tr th:only-of-type {\n",
              "        vertical-align: middle;\n",
              "    }\n",
              "\n",
              "    .dataframe tbody tr th {\n",
              "        vertical-align: top;\n",
              "    }\n",
              "\n",
              "    .dataframe thead th {\n",
              "        text-align: right;\n",
              "    }\n",
              "</style>\n",
              "<table border=\"1\" class=\"dataframe\">\n",
              "  <thead>\n",
              "    <tr style=\"text-align: right;\">\n",
              "      <th></th>\n",
              "      <th>Ship Mode</th>\n",
              "      <th>Segment</th>\n",
              "      <th>City</th>\n",
              "      <th>State</th>\n",
              "      <th>Postal Code</th>\n",
              "      <th>Region</th>\n",
              "      <th>Category</th>\n",
              "      <th>Sub-Category</th>\n",
              "      <th>Sales</th>\n",
              "      <th>Quantity</th>\n",
              "      <th>Discount</th>\n",
              "      <th>Profit</th>\n",
              "    </tr>\n",
              "  </thead>\n",
              "  <tbody>\n",
              "    <tr>\n",
              "      <th>0</th>\n",
              "      <td>Second Class</td>\n",
              "      <td>Consumer</td>\n",
              "      <td>Henderson</td>\n",
              "      <td>Kentucky</td>\n",
              "      <td>42420</td>\n",
              "      <td>South</td>\n",
              "      <td>Furniture</td>\n",
              "      <td>Bookcases</td>\n",
              "      <td>261.9600</td>\n",
              "      <td>2</td>\n",
              "      <td>0.00</td>\n",
              "      <td>41.9136</td>\n",
              "    </tr>\n",
              "    <tr>\n",
              "      <th>1</th>\n",
              "      <td>Second Class</td>\n",
              "      <td>Consumer</td>\n",
              "      <td>Henderson</td>\n",
              "      <td>Kentucky</td>\n",
              "      <td>42420</td>\n",
              "      <td>South</td>\n",
              "      <td>Furniture</td>\n",
              "      <td>Chairs</td>\n",
              "      <td>731.9400</td>\n",
              "      <td>3</td>\n",
              "      <td>0.00</td>\n",
              "      <td>219.5820</td>\n",
              "    </tr>\n",
              "    <tr>\n",
              "      <th>2</th>\n",
              "      <td>Second Class</td>\n",
              "      <td>Corporate</td>\n",
              "      <td>Los Angeles</td>\n",
              "      <td>California</td>\n",
              "      <td>90036</td>\n",
              "      <td>West</td>\n",
              "      <td>Office Supplies</td>\n",
              "      <td>Labels</td>\n",
              "      <td>14.6200</td>\n",
              "      <td>2</td>\n",
              "      <td>0.00</td>\n",
              "      <td>6.8714</td>\n",
              "    </tr>\n",
              "    <tr>\n",
              "      <th>3</th>\n",
              "      <td>Standard Class</td>\n",
              "      <td>Consumer</td>\n",
              "      <td>Fort Lauderdale</td>\n",
              "      <td>Florida</td>\n",
              "      <td>33311</td>\n",
              "      <td>South</td>\n",
              "      <td>Furniture</td>\n",
              "      <td>Tables</td>\n",
              "      <td>957.5775</td>\n",
              "      <td>5</td>\n",
              "      <td>0.45</td>\n",
              "      <td>-383.0310</td>\n",
              "    </tr>\n",
              "    <tr>\n",
              "      <th>4</th>\n",
              "      <td>Standard Class</td>\n",
              "      <td>Consumer</td>\n",
              "      <td>Fort Lauderdale</td>\n",
              "      <td>Florida</td>\n",
              "      <td>33311</td>\n",
              "      <td>South</td>\n",
              "      <td>Office Supplies</td>\n",
              "      <td>Storage</td>\n",
              "      <td>22.3680</td>\n",
              "      <td>2</td>\n",
              "      <td>0.20</td>\n",
              "      <td>2.5164</td>\n",
              "    </tr>\n",
              "    <tr>\n",
              "      <th>...</th>\n",
              "      <td>...</td>\n",
              "      <td>...</td>\n",
              "      <td>...</td>\n",
              "      <td>...</td>\n",
              "      <td>...</td>\n",
              "      <td>...</td>\n",
              "      <td>...</td>\n",
              "      <td>...</td>\n",
              "      <td>...</td>\n",
              "      <td>...</td>\n",
              "      <td>...</td>\n",
              "      <td>...</td>\n",
              "    </tr>\n",
              "    <tr>\n",
              "      <th>9989</th>\n",
              "      <td>Second Class</td>\n",
              "      <td>Consumer</td>\n",
              "      <td>Miami</td>\n",
              "      <td>Florida</td>\n",
              "      <td>33180</td>\n",
              "      <td>South</td>\n",
              "      <td>Furniture</td>\n",
              "      <td>Furnishings</td>\n",
              "      <td>25.2480</td>\n",
              "      <td>3</td>\n",
              "      <td>0.20</td>\n",
              "      <td>4.1028</td>\n",
              "    </tr>\n",
              "    <tr>\n",
              "      <th>9990</th>\n",
              "      <td>Standard Class</td>\n",
              "      <td>Consumer</td>\n",
              "      <td>Costa Mesa</td>\n",
              "      <td>California</td>\n",
              "      <td>92627</td>\n",
              "      <td>West</td>\n",
              "      <td>Furniture</td>\n",
              "      <td>Furnishings</td>\n",
              "      <td>91.9600</td>\n",
              "      <td>2</td>\n",
              "      <td>0.00</td>\n",
              "      <td>15.6332</td>\n",
              "    </tr>\n",
              "    <tr>\n",
              "      <th>9991</th>\n",
              "      <td>Standard Class</td>\n",
              "      <td>Consumer</td>\n",
              "      <td>Costa Mesa</td>\n",
              "      <td>California</td>\n",
              "      <td>92627</td>\n",
              "      <td>West</td>\n",
              "      <td>Technology</td>\n",
              "      <td>Phones</td>\n",
              "      <td>258.5760</td>\n",
              "      <td>2</td>\n",
              "      <td>0.20</td>\n",
              "      <td>19.3932</td>\n",
              "    </tr>\n",
              "    <tr>\n",
              "      <th>9992</th>\n",
              "      <td>Standard Class</td>\n",
              "      <td>Consumer</td>\n",
              "      <td>Costa Mesa</td>\n",
              "      <td>California</td>\n",
              "      <td>92627</td>\n",
              "      <td>West</td>\n",
              "      <td>Office Supplies</td>\n",
              "      <td>Paper</td>\n",
              "      <td>29.6000</td>\n",
              "      <td>4</td>\n",
              "      <td>0.00</td>\n",
              "      <td>13.3200</td>\n",
              "    </tr>\n",
              "    <tr>\n",
              "      <th>9993</th>\n",
              "      <td>Second Class</td>\n",
              "      <td>Consumer</td>\n",
              "      <td>Westminster</td>\n",
              "      <td>California</td>\n",
              "      <td>92683</td>\n",
              "      <td>West</td>\n",
              "      <td>Office Supplies</td>\n",
              "      <td>Appliances</td>\n",
              "      <td>243.1600</td>\n",
              "      <td>2</td>\n",
              "      <td>0.00</td>\n",
              "      <td>72.9480</td>\n",
              "    </tr>\n",
              "  </tbody>\n",
              "</table>\n",
              "<p>9994 rows × 12 columns</p>\n",
              "</div>"
            ],
            "text/plain": [
              "           Ship Mode    Segment             City  ... Quantity  Discount    Profit\n",
              "0       Second Class   Consumer        Henderson  ...        2      0.00   41.9136\n",
              "1       Second Class   Consumer        Henderson  ...        3      0.00  219.5820\n",
              "2       Second Class  Corporate      Los Angeles  ...        2      0.00    6.8714\n",
              "3     Standard Class   Consumer  Fort Lauderdale  ...        5      0.45 -383.0310\n",
              "4     Standard Class   Consumer  Fort Lauderdale  ...        2      0.20    2.5164\n",
              "...              ...        ...              ...  ...      ...       ...       ...\n",
              "9989    Second Class   Consumer            Miami  ...        3      0.20    4.1028\n",
              "9990  Standard Class   Consumer       Costa Mesa  ...        2      0.00   15.6332\n",
              "9991  Standard Class   Consumer       Costa Mesa  ...        2      0.20   19.3932\n",
              "9992  Standard Class   Consumer       Costa Mesa  ...        4      0.00   13.3200\n",
              "9993    Second Class   Consumer      Westminster  ...        2      0.00   72.9480\n",
              "\n",
              "[9994 rows x 12 columns]"
            ]
          },
          "metadata": {},
          "execution_count": 6
        }
      ]
    },
    {
      "cell_type": "code",
      "metadata": {
        "colab": {
          "base_uri": "https://localhost:8080/"
        },
        "id": "nwLRNdzHBa6t",
        "outputId": "234ccc50-8f90-4f89-9403-314f35d49994"
      },
      "source": [
        "df['Ship Mode'].unique()"
      ],
      "execution_count": 7,
      "outputs": [
        {
          "output_type": "execute_result",
          "data": {
            "text/plain": [
              "array(['Second Class', 'Standard Class', 'First Class', 'Same Day'],\n",
              "      dtype=object)"
            ]
          },
          "metadata": {},
          "execution_count": 7
        }
      ]
    },
    {
      "cell_type": "code",
      "metadata": {
        "colab": {
          "base_uri": "https://localhost:8080/"
        },
        "id": "IE9DyXs7BQSm",
        "outputId": "f4730116-695e-4024-d12f-768d4db638a4"
      },
      "source": [
        "df['Segment'].unique()"
      ],
      "execution_count": 8,
      "outputs": [
        {
          "output_type": "execute_result",
          "data": {
            "text/plain": [
              "array(['Consumer', 'Corporate', 'Home Office'], dtype=object)"
            ]
          },
          "metadata": {},
          "execution_count": 8
        }
      ]
    },
    {
      "cell_type": "code",
      "metadata": {
        "colab": {
          "base_uri": "https://localhost:8080/"
        },
        "id": "rdgP6ZMxx_Ub",
        "outputId": "09cb6fb7-912c-4d3d-dd41-e0139206e637"
      },
      "source": [
        "df['Discount'].unique()"
      ],
      "execution_count": 9,
      "outputs": [
        {
          "output_type": "execute_result",
          "data": {
            "text/plain": [
              "array([0.  , 0.45, 0.2 , 0.8 , 0.3 , 0.5 , 0.7 , 0.6 , 0.32, 0.1 , 0.4 ,\n",
              "       0.15])"
            ]
          },
          "metadata": {},
          "execution_count": 9
        }
      ]
    },
    {
      "cell_type": "code",
      "metadata": {
        "colab": {
          "base_uri": "https://localhost:8080/"
        },
        "id": "pSd8b2_0zzPf",
        "outputId": "589ccaeb-f099-404d-ef10-915f0f459dc3"
      },
      "source": [
        "df['State'].unique()"
      ],
      "execution_count": 10,
      "outputs": [
        {
          "output_type": "execute_result",
          "data": {
            "text/plain": [
              "array(['Kentucky', 'California', 'Florida', 'North Carolina',\n",
              "       'Washington', 'Texas', 'Wisconsin', 'Utah', 'Nebraska',\n",
              "       'Pennsylvania', 'Illinois', 'Minnesota', 'Michigan', 'Delaware',\n",
              "       'Indiana', 'New York', 'Arizona', 'Virginia', 'Tennessee',\n",
              "       'Alabama', 'South Carolina', 'Oregon', 'Colorado', 'Iowa', 'Ohio',\n",
              "       'Missouri', 'Oklahoma', 'New Mexico', 'Louisiana', 'Connecticut',\n",
              "       'New Jersey', 'Massachusetts', 'Georgia', 'Nevada', 'Rhode Island',\n",
              "       'Mississippi', 'Arkansas', 'Montana', 'New Hampshire', 'Maryland',\n",
              "       'District of Columbia', 'Kansas', 'Vermont', 'Maine',\n",
              "       'South Dakota', 'Idaho', 'North Dakota', 'Wyoming',\n",
              "       'West Virginia'], dtype=object)"
            ]
          },
          "metadata": {},
          "execution_count": 10
        }
      ]
    },
    {
      "cell_type": "markdown",
      "metadata": {
        "id": "kJt4aBse9KgF"
      },
      "source": [
        "##**Average Profit and Average Sales By Discount**"
      ]
    },
    {
      "cell_type": "code",
      "metadata": {
        "colab": {
          "base_uri": "https://localhost:8080/",
          "height": 635
        },
        "id": "0rkosUGp89r_",
        "outputId": "e00d6a86-42a6-4c80-e7bb-5e5cfe9fe54c"
      },
      "source": [
        "df.groupby('Discount').mean()[['Sales','Profit']].sort_values(by='Profit',ascending = False).plot.bar(figsize = (15,10))"
      ],
      "execution_count": null,
      "outputs": [
        {
          "output_type": "execute_result",
          "data": {
            "text/plain": [
              "<matplotlib.axes._subplots.AxesSubplot at 0x7f92153461d0>"
            ]
          },
          "metadata": {},
          "execution_count": 12
        },
        {
          "output_type": "display_data",
          "data": {
            "image/png": "[encoded data removed]",
            "text/plain": [
              "<Figure size 1080x720 with 1 Axes>"
            ]
          },
          "metadata": {
            "needs_background": "light"
          }
        }
      ]
    },
    {
      "cell_type": "markdown",
      "metadata": {
        "id": "fo0qJn769R7y"
      },
      "source": [
        "## **Check the profit for 0.5 i.e 50 % discount**"
      ]
    },
    {
      "cell_type": "code",
      "metadata": {
        "id": "5VfV9SaLHZfB"
      },
      "source": [
        "d1 = df[df['Discount']==0.5][df['Profit']>0]"
      ],
      "execution_count": null,
      "outputs": []
    },
    {
      "cell_type": "code",
      "metadata": {
        "colab": {
          "base_uri": "https://localhost:8080/",
          "height": 49
        },
        "id": "uibPwoafHaQp",
        "outputId": "29cd7473-0baa-4017-f8f4-2c6c6477a6df"
      },
      "source": [
        "d1"
      ],
      "execution_count": null,
      "outputs": [
        {
          "output_type": "execute_result",
          "data": {
            "text/html": [
              "<div>\n",
              "<style scoped>\n",
              "    .dataframe tbody tr th:only-of-type {\n",
              "        vertical-align: middle;\n",
              "    }\n",
              "\n",
              "    .dataframe tbody tr th {\n",
              "        vertical-align: top;\n",
              "    }\n",
              "\n",
              "    .dataframe thead th {\n",
              "        text-align: right;\n",
              "    }\n",
              "</style>\n",
              "<table border=\"1\" class=\"dataframe\">\n",
              "  <thead>\n",
              "    <tr style=\"text-align: right;\">\n",
              "      <th></th>\n",
              "      <th>Ship Mode</th>\n",
              "      <th>Segment</th>\n",
              "      <th>City</th>\n",
              "      <th>State</th>\n",
              "      <th>Postal Code</th>\n",
              "      <th>Region</th>\n",
              "      <th>Category</th>\n",
              "      <th>Sub-Category</th>\n",
              "      <th>Sales</th>\n",
              "      <th>Quantity</th>\n",
              "      <th>Discount</th>\n",
              "      <th>Profit</th>\n",
              "    </tr>\n",
              "  </thead>\n",
              "  <tbody>\n",
              "  </tbody>\n",
              "</table>\n",
              "</div>"
            ],
            "text/plain": [
              "Empty DataFrame\n",
              "Columns: [Ship Mode, Segment, City, State, Postal Code, Region, Category, Sub-Category, Sales, Quantity, Discount, Profit]\n",
              "Index: []"
            ]
          },
          "metadata": {},
          "execution_count": 14
        }
      ]
    },
    {
      "cell_type": "code",
      "metadata": {
        "colab": {
          "base_uri": "https://localhost:8080/"
        },
        "id": "9ssnzMkRHcM_",
        "outputId": "85c1312d-fc69-48b5-d5dd-c55b15ebcfc2"
      },
      "source": [
        "d1.shape"
      ],
      "execution_count": null,
      "outputs": [
        {
          "output_type": "execute_result",
          "data": {
            "text/plain": [
              "(0, 12)"
            ]
          },
          "metadata": {},
          "execution_count": 15
        }
      ]
    },
    {
      "cell_type": "markdown",
      "metadata": {
        "id": "xqCvfNLoiMvt"
      },
      "source": [
        "###**Finding all Discount which have all profit less that zero**"
      ]
    },
    {
      "cell_type": "code",
      "metadata": {
        "id": "mKbXozcXGvMu"
      },
      "source": [
        "dist=[]\n",
        "for dis in df['Discount'].unique():\n",
        "  d = df[df['Discount']==dis][df['Profit']>0]\n",
        "  if d.shape == (0,12): dist.append(dis)"
      ],
      "execution_count": null,
      "outputs": []
    },
    {
      "cell_type": "code",
      "metadata": {
        "colab": {
          "base_uri": "https://localhost:8080/"
        },
        "id": "_L9G0jzMHVWV",
        "outputId": "0b3125a2-f49b-4152-d7d3-d62b2a16d201"
      },
      "source": [
        "dist"
      ],
      "execution_count": null,
      "outputs": [
        {
          "output_type": "execute_result",
          "data": {
            "text/plain": [
              "[0.45, 0.8, 0.5, 0.7, 0.6, 0.32]"
            ]
          },
          "metadata": {},
          "execution_count": 17
        }
      ]
    },
    {
      "cell_type": "markdown",
      "metadata": {
        "id": "21OWFUQV_gAq"
      },
      "source": [
        "###**Sub Category of that unique discount which has loss**"
      ]
    },
    {
      "cell_type": "code",
      "metadata": {
        "id": "OT-a5_FI9m1j"
      },
      "source": [
        "data = { 'Discount':dist , 'Sub-Category':[]}\n",
        "\n",
        "for dis in dist:\n",
        "  d = df[ df['Discount']==dis ]['Sub-Category'].unique()\n",
        "  data['Sub-Category'].append( str(d) )"
      ],
      "execution_count": null,
      "outputs": []
    },
    {
      "cell_type": "code",
      "metadata": {
        "colab": {
          "base_uri": "https://localhost:8080/",
          "height": 235
        },
        "id": "X_QLhogu_Fmu",
        "outputId": "cebb7ad4-8ea7-4e51-aa1c-5c1984f81741"
      },
      "source": [
        "pd.DataFrame(data)"
      ],
      "execution_count": null,
      "outputs": [
        {
          "output_type": "execute_result",
          "data": {
            "text/html": [
              "<div>\n",
              "<style scoped>\n",
              "    .dataframe tbody tr th:only-of-type {\n",
              "        vertical-align: middle;\n",
              "    }\n",
              "\n",
              "    .dataframe tbody tr th {\n",
              "        vertical-align: top;\n",
              "    }\n",
              "\n",
              "    .dataframe thead th {\n",
              "        text-align: right;\n",
              "    }\n",
              "</style>\n",
              "<table border=\"1\" class=\"dataframe\">\n",
              "  <thead>\n",
              "    <tr style=\"text-align: right;\">\n",
              "      <th></th>\n",
              "      <th>Discount</th>\n",
              "      <th>Sub-Category</th>\n",
              "    </tr>\n",
              "  </thead>\n",
              "  <tbody>\n",
              "    <tr>\n",
              "      <th>0</th>\n",
              "      <td>0.45</td>\n",
              "      <td>['Tables']</td>\n",
              "    </tr>\n",
              "    <tr>\n",
              "      <th>1</th>\n",
              "      <td>0.80</td>\n",
              "      <td>['Appliances' 'Binders']</td>\n",
              "    </tr>\n",
              "    <tr>\n",
              "      <th>2</th>\n",
              "      <td>0.50</td>\n",
              "      <td>['Bookcases' 'Tables' 'Machines']</td>\n",
              "    </tr>\n",
              "    <tr>\n",
              "      <th>3</th>\n",
              "      <td>0.70</td>\n",
              "      <td>['Binders' 'Machines' 'Bookcases']</td>\n",
              "    </tr>\n",
              "    <tr>\n",
              "      <th>4</th>\n",
              "      <td>0.60</td>\n",
              "      <td>['Furnishings']</td>\n",
              "    </tr>\n",
              "    <tr>\n",
              "      <th>5</th>\n",
              "      <td>0.32</td>\n",
              "      <td>['Bookcases']</td>\n",
              "    </tr>\n",
              "  </tbody>\n",
              "</table>\n",
              "</div>"
            ],
            "text/plain": [
              "   Discount                        Sub-Category\n",
              "0      0.45                          ['Tables']\n",
              "1      0.80            ['Appliances' 'Binders']\n",
              "2      0.50   ['Bookcases' 'Tables' 'Machines']\n",
              "3      0.70  ['Binders' 'Machines' 'Bookcases']\n",
              "4      0.60                     ['Furnishings']\n",
              "5      0.32                       ['Bookcases']"
            ]
          },
          "metadata": {},
          "execution_count": 20
        }
      ]
    },
    {
      "cell_type": "markdown",
      "metadata": {
        "id": "JEa_hiPkiaqk"
      },
      "source": [
        "###**Remaining Discount**"
      ]
    },
    {
      "cell_type": "code",
      "metadata": {
        "id": "pLd3VU4heL1b"
      },
      "source": [
        "# For 30 % discount\n",
        "d1 = df[df['Discount']==0.3][df['Profit']>0]\n",
        "d3 = df[df['Discount']==0.3][df['Profit']<0]\n",
        "\n",
        "# For 40 % discount\n",
        "d2 = df[df['Discount']==0.4][df['Profit']>0]\n",
        "d4 = df[df['Discount']==0.4][df['Profit']<0]"
      ],
      "execution_count": 13,
      "outputs": []
    },
    {
      "cell_type": "markdown",
      "metadata": {
        "id": "IyNUhkQw5nZr"
      },
      "source": [
        "####**30% discount**"
      ]
    },
    {
      "cell_type": "code",
      "metadata": {
        "colab": {
          "base_uri": "https://localhost:8080/"
        },
        "id": "Ehw4obLM5Z-v",
        "outputId": "2ebd3013-1011-437f-edbb-8c0e7aa3a3e8"
      },
      "source": [
        "#Profit\n",
        "d1['Sub-Category'].unique()"
      ],
      "execution_count": 14,
      "outputs": [
        {
          "output_type": "execute_result",
          "data": {
            "text/plain": [
              "array(['Machines', 'Tables'], dtype=object)"
            ]
          },
          "metadata": {},
          "execution_count": 14
        }
      ]
    },
    {
      "cell_type": "code",
      "metadata": {
        "colab": {
          "base_uri": "https://localhost:8080/"
        },
        "id": "CAoWtXetaPn_",
        "outputId": "dcce8e18-eee6-4836-b93b-d77c92a00e7b"
      },
      "source": [
        "#Loss\n",
        "d3['Sub-Category'].unique()"
      ],
      "execution_count": null,
      "outputs": [
        {
          "output_type": "execute_result",
          "data": {
            "text/plain": [
              "array(['Chairs', 'Tables', 'Bookcases', 'Machines'], dtype=object)"
            ]
          },
          "metadata": {},
          "execution_count": 40
        }
      ]
    },
    {
      "cell_type": "markdown",
      "metadata": {
        "id": "hX6DMV8a5vQz"
      },
      "source": [
        "####**40% discount**"
      ]
    },
    {
      "cell_type": "code",
      "metadata": {
        "colab": {
          "base_uri": "https://localhost:8080/"
        },
        "id": "9MD3yK0r5f4Q",
        "outputId": "f0e6b971-7cc6-4a9f-ac83-f4cb07422526"
      },
      "source": [
        "#Profit\n",
        "d2['Sub-Category'].unique()"
      ],
      "execution_count": 15,
      "outputs": [
        {
          "output_type": "execute_result",
          "data": {
            "text/plain": [
              "array(['Phones', 'Machines', 'Copiers'], dtype=object)"
            ]
          },
          "metadata": {},
          "execution_count": 15
        }
      ]
    },
    {
      "cell_type": "code",
      "metadata": {
        "colab": {
          "base_uri": "https://localhost:8080/"
        },
        "id": "lu9kFIbsbMyW",
        "outputId": "90bbef43-6b62-4f93-eb50-754a1e3e0037"
      },
      "source": [
        "#Loss\n",
        "d4['Sub-Category'].unique()"
      ],
      "execution_count": null,
      "outputs": [
        {
          "output_type": "execute_result",
          "data": {
            "text/plain": [
              "array(['Phones', 'Machines', 'Tables'], dtype=object)"
            ]
          },
          "metadata": {},
          "execution_count": 41
        }
      ]
    },
    {
      "cell_type": "markdown",
      "metadata": {
        "id": "p0xcY6k86KaC"
      },
      "source": [
        "###**Discount that getting Profit**"
      ]
    },
    {
      "cell_type": "code",
      "metadata": {
        "id": "zUFpwz6g6bJH"
      },
      "source": [
        "p_dist=[0.1,0.0,0.15,0.2]\n",
        "data = {}\n",
        "for dis in p_dist:\n",
        "  d = df[ df['Discount']==dis ]['Sub-Category'].unique()\n",
        "  data[dis]= d\n"
      ],
      "execution_count": 19,
      "outputs": []
    },
    {
      "cell_type": "code",
      "metadata": {
        "colab": {
          "base_uri": "https://localhost:8080/"
        },
        "id": "kvqL1oni7L-P",
        "outputId": "c78a1622-72bd-45e6-827c-69d88afd98b1"
      },
      "source": [
        "for k,v in data.items():\n",
        "  print(k,\":\",*v)"
      ],
      "execution_count": 23,
      "outputs": [
        {
          "output_type": "stream",
          "name": "stdout",
          "text": [
            "0.1 : Chairs Appliances Machines\n",
            "0.0 : Bookcases Chairs Labels Furnishings Art Appliances Storage Tables Accessories Binders Phones Fasteners Paper Envelopes Supplies Machines Copiers\n",
            "0.15 : Bookcases\n",
            "0.2 : Storage Phones Binders Tables Paper Furnishings Envelopes Art Chairs Accessories Fasteners Appliances Labels Supplies Bookcases Copiers Machines\n"
          ]
        }
      ]
    },
    {
      "cell_type": "markdown",
      "metadata": {
        "id": "8BINpNQyB1J_"
      },
      "source": [
        "##**Average Profit and Average Sales By Segment**"
      ]
    },
    {
      "cell_type": "code",
      "metadata": {
        "colab": {
          "base_uri": "https://localhost:8080/",
          "height": 674
        },
        "id": "-L5AfSCeB03X",
        "outputId": "1161f000-00c2-4b4d-c78b-eeb49eee279f"
      },
      "source": [
        "df.groupby('Segment').mean()[['Sales','Profit']].sort_values(by='Profit',ascending = False).plot.bar(figsize = (15,10))"
      ],
      "execution_count": null,
      "outputs": [
        {
          "output_type": "execute_result",
          "data": {
            "text/plain": [
              "<matplotlib.axes._subplots.AxesSubplot at 0x7fd5091a2a90>"
            ]
          },
          "metadata": {},
          "execution_count": 87
        },
        {
          "output_type": "display_data",
          "data": {
            "image/png": "[encoded data removed]",
            "text/plain": [
              "<Figure size 1080x720 with 1 Axes>"
            ]
          },
          "metadata": {
            "needs_background": "light"
          }
        }
      ]
    },
    {
      "cell_type": "markdown",
      "metadata": {
        "id": "nZXc4eCoDPjG"
      },
      "source": [
        "##**Average Profit and Average Sales By ShipMode**"
      ]
    },
    {
      "cell_type": "code",
      "metadata": {
        "colab": {
          "base_uri": "https://localhost:8080/",
          "height": 688
        },
        "id": "wn-KA09rDWBf",
        "outputId": "49b38fa2-31af-42e3-89bb-ae05de420310"
      },
      "source": [
        "df.groupby('Ship Mode').mean()[['Sales','Profit']].sort_values(by='Profit',ascending = False).plot.bar(figsize = (15,10))"
      ],
      "execution_count": 27,
      "outputs": [
        {
          "output_type": "execute_result",
          "data": {
            "text/plain": [
              "<matplotlib.axes._subplots.AxesSubplot at 0x7f5b997064d0>"
            ]
          },
          "metadata": {},
          "execution_count": 27
        },
        {
          "output_type": "display_data",
          "data": {
            "image/png": "[encoded data removed]",
            "text/plain": [
              "<Figure size 1080x720 with 1 Axes>"
            ]
          },
          "metadata": {
            "needs_background": "light"
          }
        }
      ]
    },
    {
      "cell_type": "markdown",
      "metadata": {
        "id": "WnWwCxTMxq9T"
      },
      "source": [
        "##**Average Profit and Average Sales By State**"
      ]
    },
    {
      "cell_type": "code",
      "metadata": {
        "colab": {
          "base_uri": "https://localhost:8080/",
          "height": 685
        },
        "id": "8qIs8dx5tapy",
        "outputId": "f754c852-03d3-4c31-eda2-bd750a28a3e7"
      },
      "source": [
        "df.groupby('State').mean()[['Sales','Profit']].sort_values(by='Profit',ascending = False).tail(11).plot.bar(figsize = (15,10))"
      ],
      "execution_count": null,
      "outputs": [
        {
          "output_type": "execute_result",
          "data": {
            "text/plain": [
              "<matplotlib.axes._subplots.AxesSubplot at 0x7fd509173690>"
            ]
          },
          "metadata": {},
          "execution_count": 83
        },
        {
          "output_type": "display_data",
          "data": {
            "image/png": "[encoded data removed]",
            "text/plain": [
              "<Figure size 1080x720 with 1 Axes>"
            ]
          },
          "metadata": {
            "needs_background": "light"
          }
        }
      ]
    },
    {
      "cell_type": "markdown",
      "metadata": {
        "id": "-dM6tdm372I5"
      },
      "source": [
        "###**Checking Maximum loss in Sub-category of State**"
      ]
    },
    {
      "cell_type": "code",
      "metadata": {
        "id": "Ty8QE-DtoL5e"
      },
      "source": [
        "state = ['Florida','Oregon','Arizona','Illinois','Texas','Pennsylvania','Tennessee','North Carolina','Colorado','Ohio']\n",
        "lst=[]\n",
        "for s in state:\n",
        "  d = df[df['State']==s].groupby('Sub-Category').mean()['Profit']\n",
        "  loss =  min(d)\n",
        "  for k in d.keys():\n",
        "    if d[k]==loss:\n",
        "      lst.append([s,k,loss])\n"
      ],
      "execution_count": null,
      "outputs": []
    },
    {
      "cell_type": "code",
      "metadata": {
        "colab": {
          "base_uri": "https://localhost:8080/",
          "height": 357
        },
        "id": "3cRCZJsK8ZBz",
        "outputId": "afc7402d-faa7-4e1d-9709-a5b22def13c4"
      },
      "source": [
        "pd.DataFrame(lst,columns=['State','Sub-Category','Profit'])"
      ],
      "execution_count": null,
      "outputs": [
        {
          "output_type": "execute_result",
          "data": {
            "text/html": [
              "<div>\n",
              "<style scoped>\n",
              "    .dataframe tbody tr th:only-of-type {\n",
              "        vertical-align: middle;\n",
              "    }\n",
              "\n",
              "    .dataframe tbody tr th {\n",
              "        vertical-align: top;\n",
              "    }\n",
              "\n",
              "    .dataframe thead th {\n",
              "        text-align: right;\n",
              "    }\n",
              "</style>\n",
              "<table border=\"1\" class=\"dataframe\">\n",
              "  <thead>\n",
              "    <tr style=\"text-align: right;\">\n",
              "      <th></th>\n",
              "      <th>State</th>\n",
              "      <th>Sub-Category</th>\n",
              "      <th>Profit</th>\n",
              "    </tr>\n",
              "  </thead>\n",
              "  <tbody>\n",
              "    <tr>\n",
              "      <th>0</th>\n",
              "      <td>Florida</td>\n",
              "      <td>Machines</td>\n",
              "      <td>-329.335167</td>\n",
              "    </tr>\n",
              "    <tr>\n",
              "      <th>1</th>\n",
              "      <td>Oregon</td>\n",
              "      <td>Tables</td>\n",
              "      <td>-209.779420</td>\n",
              "    </tr>\n",
              "    <tr>\n",
              "      <th>2</th>\n",
              "      <td>Arizona</td>\n",
              "      <td>Machines</td>\n",
              "      <td>-310.313667</td>\n",
              "    </tr>\n",
              "    <tr>\n",
              "      <th>3</th>\n",
              "      <td>Illinois</td>\n",
              "      <td>Tables</td>\n",
              "      <td>-239.430261</td>\n",
              "    </tr>\n",
              "    <tr>\n",
              "      <th>4</th>\n",
              "      <td>Texas</td>\n",
              "      <td>Machines</td>\n",
              "      <td>-205.141800</td>\n",
              "    </tr>\n",
              "    <tr>\n",
              "      <th>5</th>\n",
              "      <td>Pennsylvania</td>\n",
              "      <td>Machines</td>\n",
              "      <td>-317.035086</td>\n",
              "    </tr>\n",
              "    <tr>\n",
              "      <th>6</th>\n",
              "      <td>Tennessee</td>\n",
              "      <td>Tables</td>\n",
              "      <td>-332.926725</td>\n",
              "    </tr>\n",
              "    <tr>\n",
              "      <th>7</th>\n",
              "      <td>North Carolina</td>\n",
              "      <td>Machines</td>\n",
              "      <td>-1346.202150</td>\n",
              "    </tr>\n",
              "    <tr>\n",
              "      <th>8</th>\n",
              "      <td>Colorado</td>\n",
              "      <td>Machines</td>\n",
              "      <td>-1461.418467</td>\n",
              "    </tr>\n",
              "    <tr>\n",
              "      <th>9</th>\n",
              "      <td>Ohio</td>\n",
              "      <td>Machines</td>\n",
              "      <td>-1471.368087</td>\n",
              "    </tr>\n",
              "  </tbody>\n",
              "</table>\n",
              "</div>"
            ],
            "text/plain": [
              "            State Sub-Category       Profit\n",
              "0         Florida     Machines  -329.335167\n",
              "1          Oregon       Tables  -209.779420\n",
              "2         Arizona     Machines  -310.313667\n",
              "3        Illinois       Tables  -239.430261\n",
              "4           Texas     Machines  -205.141800\n",
              "5    Pennsylvania     Machines  -317.035086\n",
              "6       Tennessee       Tables  -332.926725\n",
              "7  North Carolina     Machines -1346.202150\n",
              "8        Colorado     Machines -1461.418467\n",
              "9            Ohio     Machines -1471.368087"
            ]
          },
          "metadata": {},
          "execution_count": 202
        }
      ]
    },
    {
      "cell_type": "markdown",
      "metadata": {
        "id": "g1px9enJnSUY"
      },
      "source": [
        "###**Checking reason for Ohio**"
      ]
    },
    {
      "cell_type": "code",
      "metadata": {
        "id": "11rcg1kykUr-"
      },
      "source": [
        "d1 = df[df['State']== 'Ohio']"
      ],
      "execution_count": null,
      "outputs": []
    },
    {
      "cell_type": "code",
      "metadata": {
        "colab": {
          "base_uri": "https://localhost:8080/",
          "height": 671
        },
        "id": "fF00P0_7mNlf",
        "outputId": "017d65f0-8c44-4cca-c8f7-6ae470f09177"
      },
      "source": [
        "d1.groupby('Sub-Category').mean()[['Sales','Profit']].sort_values(by='Profit',ascending = False).plot.bar(figsize = (15,10))"
      ],
      "execution_count": null,
      "outputs": [
        {
          "output_type": "execute_result",
          "data": {
            "text/plain": [
              "<matplotlib.axes._subplots.AxesSubplot at 0x7fd508f89590>"
            ]
          },
          "metadata": {},
          "execution_count": 143
        },
        {
          "output_type": "display_data",
          "data": {
            "image/png": "[encoded data removed]",
            "text/plain": [
              "<Figure size 1080x720 with 1 Axes>"
            ]
          },
          "metadata": {
            "needs_background": "light"
          }
        }
      ]
    },
    {
      "cell_type": "markdown",
      "metadata": {
        "id": "k4Iud35nnqGl"
      },
      "source": [
        "###**Average Profit and Sale of Machines Group by State**"
      ]
    },
    {
      "cell_type": "code",
      "metadata": {
        "colab": {
          "base_uri": "https://localhost:8080/",
          "height": 685
        },
        "id": "t1rs5XB53Y-Y",
        "outputId": "76a2aa5d-0297-4764-8dd9-3cd77f41d69f"
      },
      "source": [
        "df[df['Sub-Category']=='Machines'].groupby('State').mean()[['Sales','Profit']].sort_values(by='Profit',ascending = False).tail().plot.bar(figsize = (15,10))"
      ],
      "execution_count": null,
      "outputs": [
        {
          "output_type": "execute_result",
          "data": {
            "text/plain": [
              "<matplotlib.axes._subplots.AxesSubplot at 0x7fd50782c390>"
            ]
          },
          "metadata": {},
          "execution_count": 168
        },
        {
          "output_type": "display_data",
          "data": {
            "image/png": "[encoded data removed]",
            "text/plain": [
              "<Figure size 1080x720 with 1 Axes>"
            ]
          },
          "metadata": {
            "needs_background": "light"
          }
        }
      ]
    },
    {
      "cell_type": "markdown",
      "metadata": {
        "id": "nXQ_Ps_R87jt"
      },
      "source": [
        "###**Average Profit and Sale of Tables Group by State**"
      ]
    },
    {
      "cell_type": "code",
      "metadata": {
        "colab": {
          "base_uri": "https://localhost:8080/",
          "height": 691
        },
        "id": "t78XPt7h836h",
        "outputId": "573ccc99-351f-4e13-9db0-64c0df7250ba"
      },
      "source": [
        "df[df['Sub-Category']=='Tables'].groupby('State').mean()[['Sales','Profit']].sort_values(by='Profit',ascending = False).tail(20).plot.bar(figsize = (15,10))"
      ],
      "execution_count": null,
      "outputs": [
        {
          "output_type": "execute_result",
          "data": {
            "text/plain": [
              "<matplotlib.axes._subplots.AxesSubplot at 0x7fd507442e90>"
            ]
          },
          "metadata": {},
          "execution_count": 206
        },
        {
          "output_type": "display_data",
          "data": {
            "image/png": "[encoded data removed]",
            "text/plain": [
              "<Figure size 1080x720 with 1 Axes>"
            ]
          },
          "metadata": {
            "needs_background": "light"
          }
        }
      ]
    },
    {
      "cell_type": "markdown",
      "metadata": {
        "id": "hP-mAD0L67HF"
      },
      "source": [
        "##**Average Profit and Average Sales By City**"
      ]
    },
    {
      "cell_type": "code",
      "metadata": {
        "colab": {
          "base_uri": "https://localhost:8080/",
          "height": 673
        },
        "id": "KMg8pS6369ga",
        "outputId": "c0d30157-a002-44cd-c2f8-5139b2fc63d8"
      },
      "source": [
        "df.groupby('City').mean()[['Sales','Profit']].sort_values(by='Profit',ascending = False).tail(20).plot.bar(figsize = (15,10))"
      ],
      "execution_count": 46,
      "outputs": [
        {
          "output_type": "execute_result",
          "data": {
            "text/plain": [
              "<matplotlib.axes._subplots.AxesSubplot at 0x7f5b9573cad0>"
            ]
          },
          "metadata": {},
          "execution_count": 46
        },
        {
          "output_type": "display_data",
          "data": {
            "image/png": "[encoded data removed]",
            "text/plain": [
              "<Figure size 1080x720 with 1 Axes>"
            ]
          },
          "metadata": {
            "needs_background": "light"
          }
        }
      ]
    },
    {
      "cell_type": "markdown",
      "metadata": {
        "id": "kenJnkUQlPOZ"
      },
      "source": [
        "###**List and Count of Cities achieving Loss**"
      ]
    },
    {
      "cell_type": "code",
      "metadata": {
        "id": "iJl2AxteAWq1"
      },
      "source": [
        " d1 = df.groupby('City').mean()[['Sales','Profit']].sort_values(by='Profit',ascending = False)\n",
        " d1 = d1[ d1['Profit']<0 ]"
      ],
      "execution_count": 113,
      "outputs": []
    },
    {
      "cell_type": "code",
      "metadata": {
        "colab": {
          "base_uri": "https://localhost:8080/"
        },
        "id": "E-Gttl3xMkj7",
        "outputId": "d2c41692-0e01-4c8a-d190-5c37e55eb9c2"
      },
      "source": [
        "print(\"There are\",len(d1),'cities achieving loss') "
      ],
      "execution_count": 118,
      "outputs": [
        {
          "output_type": "stream",
          "name": "stdout",
          "text": [
            "There are 116 cities achieving loss\n"
          ]
        }
      ]
    },
    {
      "cell_type": "code",
      "metadata": {
        "colab": {
          "base_uri": "https://localhost:8080/"
        },
        "id": "-P13BOKpA33l",
        "outputId": "19da0d74-1fe2-4388-b19b-0fed2748e4e7"
      },
      "source": [
        "cities = d1[ d1['Profit']<0 ].index\n",
        "for city in cities:\n",
        "  print(city)"
      ],
      "execution_count": 120,
      "outputs": [
        {
          "output_type": "stream",
          "name": "stdout",
          "text": [
            "Austin\n",
            "Hickory\n",
            "Altoona\n",
            "Bolingbrook\n",
            "Elyria\n",
            "Mason\n",
            "Pensacola\n",
            "Ormond Beach\n",
            "Freeport\n",
            "Tucson\n",
            "Hamilton\n",
            "Wilson\n",
            "Gastonia\n",
            "Abilene\n",
            "Cuyahoga Falls\n",
            "Laredo\n",
            "San Marcos\n",
            "Pembroke Pines\n",
            "League City\n",
            "Corpus Christi\n",
            "Peoria\n",
            "Denver\n",
            "Sanford\n",
            "Grand Prairie\n",
            "Scottsdale\n",
            "Boca Raton\n",
            "Carol Stream\n",
            "Garland\n",
            "Charlotte\n",
            "Lakeland\n",
            "Mcallen\n",
            "Akron\n",
            "Tinley Park\n",
            "Tampa\n",
            "Hendersonville\n",
            "Frisco\n",
            "Greensboro\n",
            "El Paso\n",
            "Missouri City\n",
            "Hialeah\n",
            "Allen\n",
            "Deer Park\n",
            "Toledo\n",
            "Fort Lauderdale\n",
            "Richardson\n",
            "Irving\n",
            "Frankfort\n",
            "Daytona Beach\n",
            "Odessa\n",
            "Redmond\n",
            "San Angelo\n",
            "Romeoville\n",
            "Wheeling\n",
            "Bloomington\n",
            "Mesquite\n",
            "Dallas\n",
            "Naperville\n",
            "Jacksonville\n",
            "Troy\n",
            "Marion\n",
            "Mesa\n",
            "Miami\n",
            "Cleveland\n",
            "York\n",
            "Parker\n",
            "Mentor\n",
            "Chicago\n",
            "Concord\n",
            "Highland Park\n",
            "Dublin\n",
            "Louisville\n",
            "Plano\n",
            "Philadelphia\n",
            "Houston\n",
            "Tigard\n",
            "Nashville\n",
            "Carrollton\n",
            "Skokie\n",
            "Allentown\n",
            "Commerce City\n",
            "Mansfield\n",
            "Bryan\n",
            "Fort Collins\n",
            "Colorado Springs\n",
            "Amarillo\n",
            "College Station\n",
            "Des Plaines\n",
            "Aurora\n",
            "Phoenix\n",
            "Buffalo Grove\n",
            "Ontario\n",
            "Knoxville\n",
            "Memphis\n",
            "Elmhurst\n",
            "Reading\n",
            "Pharr\n",
            "Greenville\n",
            "Lorain\n",
            "Park Ridge\n",
            "Waco\n",
            "Tamarac\n",
            "Tyler\n",
            "Littleton\n",
            "Rockford\n",
            "Normal\n",
            "Pueblo\n",
            "Yuma\n",
            "San Antonio\n",
            "Burlington\n",
            "Medina\n",
            "Clarksville\n",
            "Lancaster\n",
            "Round Rock\n",
            "Oswego\n",
            "Champaign\n",
            "Bethlehem\n"
          ]
        }
      ]
    },
    {
      "cell_type": "markdown",
      "metadata": {
        "id": "A12y6fWiPN0E"
      },
      "source": [
        "###**Checking reason for Oswesgo**"
      ]
    },
    {
      "cell_type": "code",
      "metadata": {
        "colab": {
          "base_uri": "https://localhost:8080/",
          "height": 661
        },
        "id": "AyhmTD6lAuC5",
        "outputId": "6e4bf343-39b5-4182-d78f-4cc71dfb4798"
      },
      "source": [
        "df[df['City']=='Oswego'].groupby('Sub-Category').mean()[['Sales','Profit']].sort_values(by='Profit',ascending = False).plot.bar(figsize = (15,10))"
      ],
      "execution_count": null,
      "outputs": [
        {
          "output_type": "execute_result",
          "data": {
            "text/plain": [
              "<matplotlib.axes._subplots.AxesSubplot at 0x7fd50706be10>"
            ]
          },
          "metadata": {},
          "execution_count": 212
        },
        {
          "output_type": "display_data",
          "data": {
            "image/png": "[encoded data removed]",
            "text/plain": [
              "<Figure size 1080x720 with 1 Axes>"
            ]
          },
          "metadata": {
            "needs_background": "light"
          }
        }
      ]
    },
    {
      "cell_type": "markdown",
      "metadata": {
        "id": "1jauVrICUDdo"
      },
      "source": [
        "###**Checking Maximum loss in Sub-category of cities**"
      ]
    },
    {
      "cell_type": "code",
      "metadata": {
        "id": "HC4CQZu4Qbr3"
      },
      "source": [
        "# List of all cities which achieve loss \n",
        "d1 = df.groupby('City').mean()[['Sales','Profit']].sort_values(by='Profit',ascending = False)\n",
        "d1 = d1[ d1['Profit']<0 ].index"
      ],
      "execution_count": 57,
      "outputs": []
    },
    {
      "cell_type": "code",
      "metadata": {
        "id": "WUr5iJTjQGvS"
      },
      "source": [
        "lst=[]\n",
        "\n",
        "for c in d1:\n",
        "\n",
        "  # Taking average profit by Sub-Category of one city\n",
        "  d = df[df['City']==c].groupby('Sub-Category').mean()['Profit'] \n",
        "\n",
        "  # Taking maximum loss value\n",
        "  loss =  min(d)\n",
        "\n",
        "  # finding the Sub category for that loss value\n",
        "  for k in d.keys():\n",
        "    if d[k]==loss:\n",
        "      lst.append([c,k,loss])\n",
        "      break"
      ],
      "execution_count": 58,
      "outputs": []
    },
    {
      "cell_type": "code",
      "metadata": {
        "colab": {
          "base_uri": "https://localhost:8080/",
          "height": 973
        },
        "id": "RF0Mk-_jHWl6",
        "outputId": "49786703-630c-4fa3-ae9a-8b0c8762d8e1"
      },
      "source": [
        "pd.DataFrame(lst,columns=['City','Sub-Category','Profit']).sort_values(by='Profit',ascending = True).head(30)"
      ],
      "execution_count": 106,
      "outputs": [
        {
          "output_type": "execute_result",
          "data": {
            "text/html": [
              "<div>\n",
              "<style scoped>\n",
              "    .dataframe tbody tr th:only-of-type {\n",
              "        vertical-align: middle;\n",
              "    }\n",
              "\n",
              "    .dataframe tbody tr th {\n",
              "        vertical-align: top;\n",
              "    }\n",
              "\n",
              "    .dataframe thead th {\n",
              "        text-align: right;\n",
              "    }\n",
              "</style>\n",
              "<table border=\"1\" class=\"dataframe\">\n",
              "  <thead>\n",
              "    <tr style=\"text-align: right;\">\n",
              "      <th></th>\n",
              "      <th>City</th>\n",
              "      <th>Sub-Category</th>\n",
              "      <th>Profit</th>\n",
              "    </tr>\n",
              "  </thead>\n",
              "  <tbody>\n",
              "    <tr>\n",
              "      <th>111</th>\n",
              "      <td>Lancaster</td>\n",
              "      <td>Machines</td>\n",
              "      <td>-6599.978000</td>\n",
              "    </tr>\n",
              "    <tr>\n",
              "      <th>108</th>\n",
              "      <td>Burlington</td>\n",
              "      <td>Machines</td>\n",
              "      <td>-3839.990400</td>\n",
              "    </tr>\n",
              "    <tr>\n",
              "      <th>70</th>\n",
              "      <td>Louisville</td>\n",
              "      <td>Machines</td>\n",
              "      <td>-3399.980000</td>\n",
              "    </tr>\n",
              "    <tr>\n",
              "      <th>110</th>\n",
              "      <td>Clarksville</td>\n",
              "      <td>Binders</td>\n",
              "      <td>-1065.372000</td>\n",
              "    </tr>\n",
              "    <tr>\n",
              "      <th>109</th>\n",
              "      <td>Medina</td>\n",
              "      <td>Machines</td>\n",
              "      <td>-950.400000</td>\n",
              "    </tr>\n",
              "    <tr>\n",
              "      <th>28</th>\n",
              "      <td>Charlotte</td>\n",
              "      <td>Machines</td>\n",
              "      <td>-944.994600</td>\n",
              "    </tr>\n",
              "    <tr>\n",
              "      <th>105</th>\n",
              "      <td>Pueblo</td>\n",
              "      <td>Machines</td>\n",
              "      <td>-938.280000</td>\n",
              "    </tr>\n",
              "    <tr>\n",
              "      <th>67</th>\n",
              "      <td>Concord</td>\n",
              "      <td>Tables</td>\n",
              "      <td>-929.911300</td>\n",
              "    </tr>\n",
              "    <tr>\n",
              "      <th>115</th>\n",
              "      <td>Bethlehem</td>\n",
              "      <td>Binders</td>\n",
              "      <td>-913.176000</td>\n",
              "    </tr>\n",
              "    <tr>\n",
              "      <th>112</th>\n",
              "      <td>Round Rock</td>\n",
              "      <td>Supplies</td>\n",
              "      <td>-786.014400</td>\n",
              "    </tr>\n",
              "    <tr>\n",
              "      <th>97</th>\n",
              "      <td>Lorain</td>\n",
              "      <td>Tables</td>\n",
              "      <td>-734.526400</td>\n",
              "    </tr>\n",
              "    <tr>\n",
              "      <th>57</th>\n",
              "      <td>Jacksonville</td>\n",
              "      <td>Machines</td>\n",
              "      <td>-618.444133</td>\n",
              "    </tr>\n",
              "    <tr>\n",
              "      <th>91</th>\n",
              "      <td>Knoxville</td>\n",
              "      <td>Tables</td>\n",
              "      <td>-575.324550</td>\n",
              "    </tr>\n",
              "    <tr>\n",
              "      <th>96</th>\n",
              "      <td>Greenville</td>\n",
              "      <td>Machines</td>\n",
              "      <td>-571.995600</td>\n",
              "    </tr>\n",
              "    <tr>\n",
              "      <th>107</th>\n",
              "      <td>San Antonio</td>\n",
              "      <td>Appliances</td>\n",
              "      <td>-549.073800</td>\n",
              "    </tr>\n",
              "    <tr>\n",
              "      <th>103</th>\n",
              "      <td>Rockford</td>\n",
              "      <td>Tables</td>\n",
              "      <td>-538.446000</td>\n",
              "    </tr>\n",
              "    <tr>\n",
              "      <th>106</th>\n",
              "      <td>Yuma</td>\n",
              "      <td>Machines</td>\n",
              "      <td>-479.988000</td>\n",
              "    </tr>\n",
              "    <tr>\n",
              "      <th>83</th>\n",
              "      <td>Colorado Springs</td>\n",
              "      <td>Bookcases</td>\n",
              "      <td>-465.267200</td>\n",
              "    </tr>\n",
              "    <tr>\n",
              "      <th>53</th>\n",
              "      <td>Bloomington</td>\n",
              "      <td>Tables</td>\n",
              "      <td>-407.682000</td>\n",
              "    </tr>\n",
              "    <tr>\n",
              "      <th>88</th>\n",
              "      <td>Phoenix</td>\n",
              "      <td>Machines</td>\n",
              "      <td>-386.957000</td>\n",
              "    </tr>\n",
              "    <tr>\n",
              "      <th>69</th>\n",
              "      <td>Dublin</td>\n",
              "      <td>Machines</td>\n",
              "      <td>-383.990400</td>\n",
              "    </tr>\n",
              "    <tr>\n",
              "      <th>58</th>\n",
              "      <td>Troy</td>\n",
              "      <td>Bookcases</td>\n",
              "      <td>-376.693200</td>\n",
              "    </tr>\n",
              "    <tr>\n",
              "      <th>72</th>\n",
              "      <td>Philadelphia</td>\n",
              "      <td>Bookcases</td>\n",
              "      <td>-321.017663</td>\n",
              "    </tr>\n",
              "    <tr>\n",
              "      <th>24</th>\n",
              "      <td>Scottsdale</td>\n",
              "      <td>Bookcases</td>\n",
              "      <td>-320.597000</td>\n",
              "    </tr>\n",
              "    <tr>\n",
              "      <th>75</th>\n",
              "      <td>Nashville</td>\n",
              "      <td>Binders</td>\n",
              "      <td>-314.181900</td>\n",
              "    </tr>\n",
              "    <tr>\n",
              "      <th>92</th>\n",
              "      <td>Memphis</td>\n",
              "      <td>Binders</td>\n",
              "      <td>-312.425300</td>\n",
              "    </tr>\n",
              "    <tr>\n",
              "      <th>98</th>\n",
              "      <td>Park Ridge</td>\n",
              "      <td>Furnishings</td>\n",
              "      <td>-312.061400</td>\n",
              "    </tr>\n",
              "    <tr>\n",
              "      <th>87</th>\n",
              "      <td>Aurora</td>\n",
              "      <td>Tables</td>\n",
              "      <td>-286.903767</td>\n",
              "    </tr>\n",
              "    <tr>\n",
              "      <th>21</th>\n",
              "      <td>Denver</td>\n",
              "      <td>Bookcases</td>\n",
              "      <td>-277.190100</td>\n",
              "    </tr>\n",
              "    <tr>\n",
              "      <th>113</th>\n",
              "      <td>Oswego</td>\n",
              "      <td>Binders</td>\n",
              "      <td>-270.120050</td>\n",
              "    </tr>\n",
              "  </tbody>\n",
              "</table>\n",
              "</div>"
            ],
            "text/plain": [
              "                 City Sub-Category       Profit\n",
              "111         Lancaster     Machines -6599.978000\n",
              "108        Burlington     Machines -3839.990400\n",
              "70         Louisville     Machines -3399.980000\n",
              "110       Clarksville      Binders -1065.372000\n",
              "109            Medina     Machines  -950.400000\n",
              "28          Charlotte     Machines  -944.994600\n",
              "105            Pueblo     Machines  -938.280000\n",
              "67            Concord       Tables  -929.911300\n",
              "115         Bethlehem      Binders  -913.176000\n",
              "112        Round Rock     Supplies  -786.014400\n",
              "97             Lorain       Tables  -734.526400\n",
              "57       Jacksonville     Machines  -618.444133\n",
              "91          Knoxville       Tables  -575.324550\n",
              "96         Greenville     Machines  -571.995600\n",
              "107       San Antonio   Appliances  -549.073800\n",
              "103          Rockford       Tables  -538.446000\n",
              "106              Yuma     Machines  -479.988000\n",
              "83   Colorado Springs    Bookcases  -465.267200\n",
              "53        Bloomington       Tables  -407.682000\n",
              "88            Phoenix     Machines  -386.957000\n",
              "69             Dublin     Machines  -383.990400\n",
              "58               Troy    Bookcases  -376.693200\n",
              "72       Philadelphia    Bookcases  -321.017663\n",
              "24         Scottsdale    Bookcases  -320.597000\n",
              "75          Nashville      Binders  -314.181900\n",
              "92            Memphis      Binders  -312.425300\n",
              "98         Park Ridge  Furnishings  -312.061400\n",
              "87             Aurora       Tables  -286.903767\n",
              "21             Denver    Bookcases  -277.190100\n",
              "113            Oswego      Binders  -270.120050"
            ]
          },
          "metadata": {},
          "execution_count": 106
        }
      ]
    },
    {
      "cell_type": "code",
      "metadata": {
        "id": "LuuwJy9aTk3j"
      },
      "source": [
        "d = pd.DataFrame(lst,columns=['City','Sub-Category','Profit']).sort_values(by='Profit',ascending = False)\n",
        "d.index = d['City']\n",
        "del d['City']"
      ],
      "execution_count": 94,
      "outputs": []
    },
    {
      "cell_type": "markdown",
      "metadata": {
        "id": "6dOsESQxMB5S"
      },
      "source": [
        "####**By Sub-category**"
      ]
    },
    {
      "cell_type": "code",
      "metadata": {
        "colab": {
          "base_uri": "https://localhost:8080/",
          "height": 674
        },
        "id": "_35OwDN6Fp7N",
        "outputId": "b5880420-3f8d-4a7e-efab-542db7fd4e58"
      },
      "source": [
        "d.groupby(\"Sub-Category\").mean()['Profit'].sort_values(ascending = False).plot.bar(figsize = (15,10))"
      ],
      "execution_count": 102,
      "outputs": [
        {
          "output_type": "execute_result",
          "data": {
            "text/plain": [
              "<matplotlib.axes._subplots.AxesSubplot at 0x7f5b945a4450>"
            ]
          },
          "metadata": {},
          "execution_count": 102
        },
        {
          "output_type": "display_data",
          "data": {
            "image/png": "[encoded data removed]",
            "text/plain": [
              "<Figure size 1080x720 with 1 Axes>"
            ]
          },
          "metadata": {
            "needs_background": "light"
          }
        }
      ]
    },
    {
      "cell_type": "markdown",
      "metadata": {
        "id": "Qf8URqvBMLpb"
      },
      "source": [
        "####**By Cities**"
      ]
    },
    {
      "cell_type": "code",
      "metadata": {
        "colab": {
          "base_uri": "https://localhost:8080/",
          "height": 702
        },
        "id": "6uqGc1vjD2UX",
        "outputId": "866739a9-31fa-4f4c-c074-c9f13cb964ff"
      },
      "source": [
        "d.tail(30).plot.bar(figsize = (15,10))"
      ],
      "execution_count": 124,
      "outputs": [
        {
          "output_type": "execute_result",
          "data": {
            "text/plain": [
              "<matplotlib.axes._subplots.AxesSubplot at 0x7f5b93bba690>"
            ]
          },
          "metadata": {},
          "execution_count": 124
        },
        {
          "output_type": "display_data",
          "data": {
            "image/png": "[encoded data removed]",
            "text/plain": [
              "<Figure size 1080x720 with 1 Axes>"
            ]
          },
          "metadata": {
            "needs_background": "light"
          }
        }
      ]
    },
    {
      "cell_type": "markdown",
      "metadata": {
        "id": "JmkTIt5eBbSa"
      },
      "source": [
        "###**Average Profit and Sale of Binders Group by City**"
      ]
    },
    {
      "cell_type": "code",
      "metadata": {
        "colab": {
          "base_uri": "https://localhost:8080/",
          "height": 673
        },
        "id": "ZCecUNKOBAoE",
        "outputId": "62848ebf-a685-4d26-c9ba-c12318058493"
      },
      "source": [
        "df[df['Sub-Category']=='Binders'].groupby('City').mean()[['Sales','Profit']].sort_values(by='Profit',ascending = False).tail(10).plot.bar(figsize = (15,10))"
      ],
      "execution_count": null,
      "outputs": [
        {
          "output_type": "execute_result",
          "data": {
            "text/plain": [
              "<matplotlib.axes._subplots.AxesSubplot at 0x7fd5070e4950>"
            ]
          },
          "metadata": {},
          "execution_count": 214
        },
        {
          "output_type": "display_data",
          "data": {
            "image/png": "[encoded data removed]",
            "text/plain": [
              "<Figure size 1080x720 with 1 Axes>"
            ]
          },
          "metadata": {
            "needs_background": "light"
          }
        }
      ]
    },
    {
      "cell_type": "markdown",
      "metadata": {
        "id": "_nSfD-c2Wmzm"
      },
      "source": [
        "###**Average Profit and Sale of Machines Group by City**"
      ]
    },
    {
      "cell_type": "code",
      "metadata": {
        "colab": {
          "base_uri": "https://localhost:8080/",
          "height": 665
        },
        "id": "0FiugecpWsVA",
        "outputId": "b2d5ad73-2bc4-42c8-cda2-6233bc8f76c8"
      },
      "source": [
        "df[df['Sub-Category']=='Machines'].groupby('City').mean()[['Sales','Profit']].sort_values(by='Profit',ascending = False).tail().plot.bar(figsize = (15,10))"
      ],
      "execution_count": null,
      "outputs": [
        {
          "output_type": "execute_result",
          "data": {
            "text/plain": [
              "<matplotlib.axes._subplots.AxesSubplot at 0x7f64b9940bd0>"
            ]
          },
          "metadata": {},
          "execution_count": 38
        },
        {
          "output_type": "display_data",
          "data": {
            "image/png": "[encoded data removed]",
            "text/plain": [
              "<Figure size 1080x720 with 1 Axes>"
            ]
          },
          "metadata": {
            "needs_background": "light"
          }
        }
      ]
    },
    {
      "cell_type": "markdown",
      "metadata": {
        "id": "NF3i0hGqyYTD"
      },
      "source": [
        "##**Average Profit and Average Sales By Category**"
      ]
    },
    {
      "cell_type": "code",
      "metadata": {
        "colab": {
          "base_uri": "https://localhost:8080/",
          "height": 687
        },
        "id": "dOXFBobvykli",
        "outputId": "a627044d-e8a7-48ff-ef60-4e3c778ee109"
      },
      "source": [
        "df.groupby('Category').mean()[['Sales','Profit']].sort_values(by='Profit',ascending = False).plot.bar(figsize = (15,10))"
      ],
      "execution_count": null,
      "outputs": [
        {
          "output_type": "execute_result",
          "data": {
            "text/plain": [
              "<matplotlib.axes._subplots.AxesSubplot at 0x7fd50cca24d0>"
            ]
          },
          "metadata": {},
          "execution_count": 35
        },
        {
          "output_type": "display_data",
          "data": {
            "image/png": "[encoded data removed]",
            "text/plain": [
              "<Figure size 1080x720 with 1 Axes>"
            ]
          },
          "metadata": {
            "needs_background": "light"
          }
        }
      ]
    },
    {
      "cell_type": "markdown",
      "metadata": {
        "id": "d6dHb9zN6SJk"
      },
      "source": [
        "##**Table of Category and Subcategory**"
      ]
    },
    {
      "cell_type": "code",
      "metadata": {
        "colab": {
          "base_uri": "https://localhost:8080/",
          "height": 35
        },
        "id": "w3dtMU5Y4Imb",
        "outputId": "06528b15-2d3c-4379-b870-36718e733d54"
      },
      "source": [
        "str(df[df['Category']=='Furniture']['Sub-Category'].unique())"
      ],
      "execution_count": null,
      "outputs": [
        {
          "output_type": "execute_result",
          "data": {
            "application/vnd.google.colaboratory.intrinsic+json": {
              "type": "string"
            },
            "text/plain": [
              "\"['Bookcases' 'Chairs' 'Tables' 'Furnishings']\""
            ]
          },
          "metadata": {},
          "execution_count": 63
        }
      ]
    },
    {
      "cell_type": "code",
      "metadata": {
        "id": "6gvUSrZl5aQZ"
      },
      "source": [
        "data={ 'Category':df['Category'].unique(),'Sub':[]}"
      ],
      "execution_count": null,
      "outputs": []
    },
    {
      "cell_type": "code",
      "metadata": {
        "colab": {
          "base_uri": "https://localhost:8080/",
          "height": 142
        },
        "id": "d2VdiO-z0140",
        "outputId": "ed0e76d9-45f8-461d-892e-20c84206f94e"
      },
      "source": [
        "\n",
        "for category in df['Category'].unique():\n",
        "  data['Sub'].append(str(df[df['Category']==category]['Sub-Category'].unique()))\n",
        "\n",
        "pd.DataFrame(data,index=[0,1,2],)\n"
      ],
      "execution_count": null,
      "outputs": [
        {
          "output_type": "execute_result",
          "data": {
            "text/html": [
              "<div>\n",
              "<style scoped>\n",
              "    .dataframe tbody tr th:only-of-type {\n",
              "        vertical-align: middle;\n",
              "    }\n",
              "\n",
              "    .dataframe tbody tr th {\n",
              "        vertical-align: top;\n",
              "    }\n",
              "\n",
              "    .dataframe thead th {\n",
              "        text-align: right;\n",
              "    }\n",
              "</style>\n",
              "<table border=\"1\" class=\"dataframe\">\n",
              "  <thead>\n",
              "    <tr style=\"text-align: right;\">\n",
              "      <th></th>\n",
              "      <th>Category</th>\n",
              "      <th>Sub</th>\n",
              "    </tr>\n",
              "  </thead>\n",
              "  <tbody>\n",
              "    <tr>\n",
              "      <th>0</th>\n",
              "      <td>Furniture</td>\n",
              "      <td>['Bookcases' 'Chairs' 'Tables' 'Furnishings']</td>\n",
              "    </tr>\n",
              "    <tr>\n",
              "      <th>1</th>\n",
              "      <td>Office Supplies</td>\n",
              "      <td>['Labels' 'Storage' 'Art' 'Binders' 'Appliance...</td>\n",
              "    </tr>\n",
              "    <tr>\n",
              "      <th>2</th>\n",
              "      <td>Technology</td>\n",
              "      <td>['Phones' 'Accessories' 'Machines' 'Copiers']</td>\n",
              "    </tr>\n",
              "  </tbody>\n",
              "</table>\n",
              "</div>"
            ],
            "text/plain": [
              "          Category                                                Sub\n",
              "0        Furniture      ['Bookcases' 'Chairs' 'Tables' 'Furnishings']\n",
              "1  Office Supplies  ['Labels' 'Storage' 'Art' 'Binders' 'Appliance...\n",
              "2       Technology      ['Phones' 'Accessories' 'Machines' 'Copiers']"
            ]
          },
          "metadata": {},
          "execution_count": 66
        }
      ]
    },
    {
      "cell_type": "markdown",
      "metadata": {
        "id": "D-E2zteFzKK7"
      },
      "source": [
        "##**Average Profit and Average Sales By Subcategory**"
      ]
    },
    {
      "cell_type": "code",
      "metadata": {
        "colab": {
          "base_uri": "https://localhost:8080/",
          "height": 671
        },
        "id": "XN4vWlUoz6uE",
        "outputId": "198c7f75-291f-4511-fec3-1a5f972decb2"
      },
      "source": [
        "df.groupby('Sub-Category').mean()[['Sales','Profit']].sort_values(by='Profit',ascending = False).plot.bar(figsize = (15,10))"
      ],
      "execution_count": null,
      "outputs": [
        {
          "output_type": "execute_result",
          "data": {
            "text/plain": [
              "<matplotlib.axes._subplots.AxesSubplot at 0x7fd50cc46a90>"
            ]
          },
          "metadata": {},
          "execution_count": 36
        },
        {
          "output_type": "display_data",
          "data": {
            "image/png": "[encoded data removed]",
            "text/plain": [
              "<Figure size 1080x720 with 1 Axes>"
            ]
          },
          "metadata": {
            "needs_background": "light"
          }
        }
      ]
    },
    {
      "cell_type": "markdown",
      "metadata": {
        "id": "vmEHCYSnX-TV"
      },
      "source": [
        "#**Conclusion**\n",
        "\n",
        " Discount, State , City are the affecting areas in loss\n",
        "\n",
        "    1) 45% ,80% ,50% ,70% ,60% ,32% discount are giving loss.To overcome this we can set 10% ,0% ,15% ,20% discount for achieving profit\n",
        "    2) Tables and Machines are one which are affecting Maximum loss in 10 states\n",
        "    3) Machines and supplies are most which are affecting Maximuma loss along with Table, Bookcases, Blinders, Appliances, Chair, Furnishing, \n",
        "    Storage in 116 cites"
      ]
    }
  ]
}